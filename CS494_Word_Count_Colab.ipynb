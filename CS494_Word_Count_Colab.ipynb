{
  "nbformat": 4,
  "nbformat_minor": 0,
  "metadata": {
    "colab": {
      "name": "Copy of CS494 - Word Count Colab.ipynb",
      "provenance": [],
      "collapsed_sections": []
    },
    "kernelspec": {
      "name": "python3",
      "display_name": "Python 3"
    }
  },
  "cells": [
    {
      "cell_type": "markdown",
      "metadata": {
        "id": "kPt5q27L5557"
      },
      "source": [
        "# CS494 - Colab\n",
        "## Wordcount in Spark"
      ]
    },
    {
      "cell_type": "markdown",
      "metadata": {
        "id": "p0-YhEpP_Ds-"
      },
      "source": [
        "### Setup"
      ]
    },
    {
      "cell_type": "markdown",
      "metadata": {
        "id": "Zsj5WYpR9QId"
      },
      "source": [
        "Let's setup Spark on your Colab environment.  Run the cell below!"
      ]
    },
    {
      "cell_type": "code",
      "metadata": {
        "id": "k-qHai2252mI",
        "colab": {
          "base_uri": "https://localhost:8080/",
          "height": 106
        },
        "outputId": "453eaefe-b3b4-4ff7-f2f3-dc80341834d0"
      },
      "source": [
        "!pip install pyspark\n",
        "!pip install -U -q PyDrive\n",
        "!apt install openjdk-8-jdk-headless -qq\n",
        "import os\n",
        "os.environ[\"JAVA_HOME\"] = \"/usr/lib/jvm/java-8-openjdk-amd64\""
      ],
      "execution_count": null,
      "outputs": [
        {
          "output_type": "stream",
          "text": [
            "Requirement already satisfied: pyspark in /usr/local/lib/python3.6/dist-packages (2.4.5)\n",
            "Requirement already satisfied: py4j==0.10.7 in /usr/local/lib/python3.6/dist-packages (from pyspark) (0.10.7)\n",
            "openjdk-8-jdk-headless is already the newest version (8u252-b09-1~18.04).\n",
            "0 upgraded, 0 newly installed, 0 to remove and 29 not upgraded.\n"
          ],
          "name": "stdout"
        }
      ]
    },
    {
      "cell_type": "markdown",
      "metadata": {
        "id": "-CJ71AKe91eh"
      },
      "source": [
        "Now we authenticate a Google Drive client to download the file we will be processing in our Spark job.\n",
        "\n",
        "**Make sure to follow the interactive instructions.**"
      ]
    },
    {
      "cell_type": "code",
      "metadata": {
        "id": "5K93ABEy9Zlo"
      },
      "source": [
        "from pydrive.auth import GoogleAuth\n",
        "from pydrive.drive import GoogleDrive\n",
        "from google.colab import auth\n",
        "from oauth2client.client import GoogleCredentials\n",
        "\n",
        "# Authenticate and create the PyDrive client\n",
        "auth.authenticate_user()\n",
        "gauth = GoogleAuth()\n",
        "gauth.credentials = GoogleCredentials.get_application_default()\n",
        "drive = GoogleDrive(gauth)"
      ],
      "execution_count": null,
      "outputs": []
    },
    {
      "cell_type": "code",
      "metadata": {
        "id": "0orRvrc1-545"
      },
      "source": [
        "id='1SE6k_0YukzGd5wK-E4i6mG83nydlfvSa'\n",
        "downloaded = drive.CreateFile({'id': id})\n",
        "downloaded.GetContentFile('pg100.txt')\n",
        "#downloaded.GetContentFile('test.txt')"
      ],
      "execution_count": null,
      "outputs": []
    },
    {
      "cell_type": "markdown",
      "metadata": {
        "id": "qwtlO4_m_LbQ"
      },
      "source": [
        "If you executed the cells above, you should be able to see the file *pg100.txt* under the \"Files\" tab on the left panel."
      ]
    },
    {
      "cell_type": "markdown",
      "metadata": {
        "id": "CRaF2A_j_nC7"
      },
      "source": [
        "### Your task"
      ]
    },
    {
      "cell_type": "markdown",
      "metadata": {
        "id": "ebLNUxP0_8x3"
      },
      "source": [
        "If you run successfully the setup stage, you are ready to work on the *pg100.txt* file which contains a copy of the complete works of Shakespeare.\n",
        "\n",
        "Write a Spark application which outputs the number of words that start with each letter. This means that for every letter we want to count the total number of (non-unique) words that start with a specific letter. In your implementation **ignore the letter case**, i.e., consider all words as lower case. Also, you can ignore all the words **starting** with a non-alphabetic character."
      ]
    },
    {
      "cell_type": "code",
      "metadata": {
        "id": "xu-e7Ph2_ruG"
      },
      "source": [
        "from pyspark.sql import *\n",
        "from pyspark.sql.functions import *\n",
        "from pyspark import SparkContext\n",
        "import pyspark\n",
        "import pandas as pd\n",
        "import sys # this library does \n",
        "from pyspark.conf import SparkConf  # we add a new library\n",
        "from operator import add\n",
        "import random\n",
        "\n",
        "# create the Spark Session\n",
        "spark = SparkSession.builder.master(\"local[*]\").getOrCreate()\n",
        "\n",
        "# create the Spark Context\n",
        "sc = spark.sparkContext.getOrCreate()\n",
        "\n"
      ],
      "execution_count": null,
      "outputs": []
    },
    {
      "cell_type": "code",
      "metadata": {
        "id": "AuAxGFPFB43Y"
      },
      "source": [
        "# YOUR\n",
        "\n",
        "#it reads the file text \n",
        "text = sc.textFile(\"/content/pg100.txt\")\n",
        "\n",
        "#we use map to sort the words in the file\n",
        "words = text.flatMap(lambda line: line.split(\" \"))\n",
        "\n",
        "\n",
        "# we create this function to remove characters and do lowercases\n",
        "def lower_clean_str(x):\n",
        "  punc = '!\"#$%&\\'()*+,./:;<=>?@[\\\\]^_`{|}~- '\n",
        "  lowercased_str = x.lower()\n",
        "  for ch in punc:\n",
        "      lowercased_str = lowercased_str.replace(ch,'')\n",
        "\n",
        "  return lowercased_str\n",
        "\n",
        "wordsCount = words.map(lower_clean_str)\n",
        "\n",
        "wordsCount.take(20)\n"
      ],
      "execution_count": null,
      "outputs": []
    },
    {
      "cell_type": "code",
      "metadata": {
        "id": "FU-EICww_WTp"
      },
      "source": [
        "wordTotal = wordsCount.map(lambda word:(word, 1))\n",
        "#wordTotal.take(3) \n",
        "###### it shows the output withouth characters #####\n",
        "#wordTotal.collect()\n",
        "\n",
        "#### it shows and counts how many words can be repeated #####\n",
        "wordTotal.countByValue()"
      ],
      "execution_count": null,
      "outputs": []
    },
    {
      "cell_type": "code",
      "metadata": {
        "id": "yYU7GX428C9U"
      },
      "source": [
        "##### most common words #####\n",
        "distinctWordsCount = wordTotal.reduceByKey(lambda x,y:(x+y)).sortByKey()\n",
        "#distinctWordsCount.take(20)\n",
        "\n",
        "######sort by most frequent words in the file #######\n",
        "##### we stopwords using sortByKey\n",
        "sortWordsCount = distinctWordsCount.map(lambda x: (x[1], x[0]))\n",
        "sortWordsCount.sortByKey(False).take(10)\n",
        "##print most frequent 20 words\n"
      ],
      "execution_count": null,
      "outputs": []
    },
    {
      "cell_type": "code",
      "metadata": {
        "id": "A-SSxDs9FdJa"
      },
      "source": [
        "#### We count numbers of words with a certain letter using startwith ###\n",
        "#For letter 'A'\n",
        "countAletter = words.filter(lambda x: x.startswith(\"a\"))\n",
        "output = (\"A:\")\n",
        "countAletter.count()\n"
      ],
      "execution_count": null,
      "outputs": []
    },
    {
      "cell_type": "code",
      "metadata": {
        "id": "Tt28H8_I78Ix"
      },
      "source": [
        "#For letter B\n",
        "countBletter = words.filter(lambda x: x.startswith(\"b\"))\n",
        "countBletter.count()"
      ],
      "execution_count": null,
      "outputs": []
    },
    {
      "cell_type": "code",
      "metadata": {
        "id": "iZejeaZX78F8"
      },
      "source": [
        "#For letter C\n",
        "countBletter = words.filter(lambda x: x.startswith(\"c\"))\n",
        "countBletter.count()"
      ],
      "execution_count": null,
      "outputs": []
    },
    {
      "cell_type": "code",
      "metadata": {
        "id": "WHOyt9hB78DH"
      },
      "source": [
        "#For letter D\n",
        "countBletter = words.filter(lambda x: x.startswith(\"d\"))\n",
        "countBletter.count()"
      ],
      "execution_count": null,
      "outputs": []
    },
    {
      "cell_type": "code",
      "metadata": {
        "id": "fJhBAZ4z78AM"
      },
      "source": [
        "#For letter E\n",
        "countBletter = words.filter(lambda x: x.startswith(\"e\"))\n",
        "countBletter.count()"
      ],
      "execution_count": null,
      "outputs": []
    },
    {
      "cell_type": "code",
      "metadata": {
        "id": "nw3_EEf0779t"
      },
      "source": [
        "#For letter F\n",
        "countBletter = words.filter(lambda x: x.startswith(\"f\"))\n",
        "countBletter.count()"
      ],
      "execution_count": null,
      "outputs": []
    },
    {
      "cell_type": "code",
      "metadata": {
        "id": "_kNuKXp377jH"
      },
      "source": [
        "#For letter G\n",
        "countBletter = words.filter(lambda x: x.startswith(\"g\"))\n",
        "countBletter.count()"
      ],
      "execution_count": null,
      "outputs": []
    },
    {
      "cell_type": "code",
      "metadata": {
        "id": "n0owDqRS8OcJ"
      },
      "source": [
        "#For letter H\n",
        "countBletter = words.filter(lambda x: x.startswith(\"h\"))\n",
        "countBletter.count()"
      ],
      "execution_count": null,
      "outputs": []
    },
    {
      "cell_type": "code",
      "metadata": {
        "id": "hPf5YBSD8OZJ"
      },
      "source": [
        "#For letter I\n",
        "countBletter = words.filter(lambda x: x.startswith(\"i\"))\n",
        "countBletter.count()"
      ],
      "execution_count": null,
      "outputs": []
    },
    {
      "cell_type": "code",
      "metadata": {
        "id": "mVcK0YpF8OWW"
      },
      "source": [
        "#For letter J\n",
        "countBletter = words.filter(lambda x: x.startswith(\"j\"))\n",
        "countBletter.count()\n"
      ],
      "execution_count": null,
      "outputs": []
    },
    {
      "cell_type": "code",
      "metadata": {
        "id": "WMOl61CP8OTd"
      },
      "source": [
        "#For letter K\n",
        "countBletter = words.filter(lambda x: x.startswith(\"k\"))\n",
        "countBletter.count()\n"
      ],
      "execution_count": null,
      "outputs": []
    },
    {
      "cell_type": "code",
      "metadata": {
        "id": "VRxA8bZC8OQW"
      },
      "source": [
        "#For letter L\n",
        "countBletter = words.filter(lambda x: x.startswith(\"l\"))\n",
        "countBletter.count()"
      ],
      "execution_count": null,
      "outputs": []
    },
    {
      "cell_type": "code",
      "metadata": {
        "id": "SqfFv9Mi8ONc"
      },
      "source": [
        "#For letter M\n",
        "countBletter = words.filter(lambda x: x.startswith(\"m\"))\n",
        "countBletter.count()"
      ],
      "execution_count": null,
      "outputs": []
    },
    {
      "cell_type": "code",
      "metadata": {
        "id": "geC6BkJ08OKy"
      },
      "source": [
        "#For letter N\n",
        "countBletter = words.filter(lambda x: x.startswith(\"n\"))\n",
        "countBletter.count()"
      ],
      "execution_count": null,
      "outputs": []
    },
    {
      "cell_type": "code",
      "metadata": {
        "id": "ltE4HbE78OH9"
      },
      "source": [
        "#For letter O\n",
        "countBletter = words.filter(lambda x: x.startswith(\"o\"))\n",
        "countBletter.count()"
      ],
      "execution_count": null,
      "outputs": []
    },
    {
      "cell_type": "code",
      "metadata": {
        "id": "f129YCWx8OFE"
      },
      "source": [
        "#For letter P\n",
        "countBletter = words.filter(lambda x: x.startswith(\"p\"))\n",
        "countBletter.count()"
      ],
      "execution_count": null,
      "outputs": []
    },
    {
      "cell_type": "code",
      "metadata": {
        "id": "FdriFSEu8OD9"
      },
      "source": [
        "#For letter Q\n",
        "countBletter = words.filter(lambda x: x.startswith(\"q\"))\n",
        "countBletter.count()"
      ],
      "execution_count": null,
      "outputs": []
    },
    {
      "cell_type": "code",
      "metadata": {
        "id": "-XoQagPT8N_c"
      },
      "source": [
        "#For letter R\n",
        "countBletter = words.filter(lambda x: x.startswith(\"r\"))\n",
        "countBletter.count()"
      ],
      "execution_count": null,
      "outputs": []
    },
    {
      "cell_type": "code",
      "metadata": {
        "id": "RleAnTX88N8h"
      },
      "source": [
        "#For letter S\n",
        "countBletter = words.filter(lambda x: x.startswith(\"s\"))\n",
        "countBletter.count()\n"
      ],
      "execution_count": null,
      "outputs": []
    },
    {
      "cell_type": "code",
      "metadata": {
        "id": "jeZzwXrG8N58"
      },
      "source": [
        "#For letter T\n",
        "countBletter = words.filter(lambda x: x.startswith(\"t\"))\n",
        "countBletter.count()\n"
      ],
      "execution_count": null,
      "outputs": []
    },
    {
      "cell_type": "code",
      "metadata": {
        "id": "ja01OboV8N3b"
      },
      "source": [
        "#For letter U\n",
        "countBletter = words.filter(lambda x: x.startswith(\"u\"))\n",
        "countBletter.count()\n"
      ],
      "execution_count": null,
      "outputs": []
    },
    {
      "cell_type": "code",
      "metadata": {
        "id": "wF9iU2La8N0W"
      },
      "source": [
        "#For letter V\n",
        "countBletter = words.filter(lambda x: x.startswith(\"v\"))\n",
        "countBletter.count()"
      ],
      "execution_count": null,
      "outputs": []
    },
    {
      "cell_type": "code",
      "metadata": {
        "id": "0l4AjR3-8Nxg"
      },
      "source": [
        "#For letter W\n",
        "countBletter = words.filter(lambda x: x.startswith(\"w\"))\n",
        "countBletter.count()"
      ],
      "execution_count": null,
      "outputs": []
    },
    {
      "cell_type": "code",
      "metadata": {
        "id": "GCee0cy98Npp"
      },
      "source": [
        "#For letter X\n",
        "countBletter = words.filter(lambda x: x.startswith(\"x\"))\n",
        "countBletter.count()"
      ],
      "execution_count": null,
      "outputs": []
    },
    {
      "cell_type": "code",
      "metadata": {
        "id": "7jDCs412ZZcF"
      },
      "source": [
        "#For letter Y\n",
        "countBletter = words.filter(lambda x: x.startswith(\"y\"))\n",
        "countBletter.count()\n",
        "\n"
      ],
      "execution_count": null,
      "outputs": []
    },
    {
      "cell_type": "code",
      "metadata": {
        "id": "lOP0tQlP8t8W"
      },
      "source": [
        "#For letter Z\n",
        "countBletter = words.filter(lambda x: x.startswith(\"z\"))\n",
        "countBletter.count()"
      ],
      "execution_count": null,
      "outputs": []
    },
    {
      "cell_type": "markdown",
      "metadata": {
        "id": "SIrXJyVNP2AI"
      },
      "source": [
        "Once you obtained the desired results, **head over to Gradescope and submit your solution for this Colab**!"
      ]
    }
  ]
}