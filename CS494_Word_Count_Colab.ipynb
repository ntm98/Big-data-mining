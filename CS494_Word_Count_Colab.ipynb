{
  "nbformat": 4,
  "nbformat_minor": 0,
  "metadata": {
    "colab": {
      "name": "Copy of CS494 - Word Count Colab.ipynb",
      "provenance": [],
      "collapsed_sections": []
    },
    "kernelspec": {
      "name": "python3",
      "display_name": "Python 3"
    }
  },
  "cells": [
    {
      "cell_type": "markdown",
      "metadata": {
        "id": "kPt5q27L5557"
      },
      "source": [
        "# CS494 - Colab\n",
        "## Wordcount in Spark"
      ]
    },
    {
      "cell_type": "markdown",
      "metadata": {
        "id": "p0-YhEpP_Ds-"
      },
      "source": [
        "### Setup"
      ]
    },
    {
      "cell_type": "markdown",
      "metadata": {
        "id": "Zsj5WYpR9QId"
      },
      "source": [
        "Let's setup Spark on your Colab environment.  Run the cell below!"
      ]
    },
    {
      "cell_type": "code",
      "metadata": {
        "id": "k-qHai2252mI",
        "colab": {
          "base_uri": "https://localhost:8080/"
        },
        "outputId": "7598acb1-0650-4c4b-d29c-c50c0c2abfec"
      },
      "source": [
        "!pip install pyspark\n",
        "!pip install -U -q PyDrive\n",
        "!apt install openjdk-8-jdk-headless -qq\n",
        "import os\n",
        "os.environ[\"JAVA_HOME\"] = \"/usr/lib/jvm/java-8-openjdk-amd64\""
      ],
      "execution_count": 1,
      "outputs": [
        {
          "output_type": "stream",
          "text": [
            "Collecting pyspark\n",
            "\u001b[?25l  Downloading https://files.pythonhosted.org/packages/f0/26/198fc8c0b98580f617cb03cb298c6056587b8f0447e20fa40c5b634ced77/pyspark-3.0.1.tar.gz (204.2MB)\n",
            "\u001b[K     |████████████████████████████████| 204.2MB 67kB/s \n",
            "\u001b[?25hCollecting py4j==0.10.9\n",
            "\u001b[?25l  Downloading https://files.pythonhosted.org/packages/9e/b6/6a4fb90cd235dc8e265a6a2067f2a2c99f0d91787f06aca4bcf7c23f3f80/py4j-0.10.9-py2.py3-none-any.whl (198kB)\n",
            "\u001b[K     |████████████████████████████████| 204kB 49.5MB/s \n",
            "\u001b[?25hBuilding wheels for collected packages: pyspark\n",
            "  Building wheel for pyspark (setup.py) ... \u001b[?25l\u001b[?25hdone\n",
            "  Created wheel for pyspark: filename=pyspark-3.0.1-py2.py3-none-any.whl size=204612242 sha256=a93ae532253c6e2328cc87325f825221120e05b4840c10aad1c38753e62fef62\n",
            "  Stored in directory: /root/.cache/pip/wheels/5e/bd/07/031766ca628adec8435bb40f0bd83bb676ce65ff4007f8e73f\n",
            "Successfully built pyspark\n",
            "Installing collected packages: py4j, pyspark\n",
            "Successfully installed py4j-0.10.9 pyspark-3.0.1\n",
            "The following additional packages will be installed:\n",
            "  openjdk-8-jre-headless\n",
            "Suggested packages:\n",
            "  openjdk-8-demo openjdk-8-source libnss-mdns fonts-dejavu-extra\n",
            "  fonts-ipafont-gothic fonts-ipafont-mincho fonts-wqy-microhei\n",
            "  fonts-wqy-zenhei fonts-indic\n",
            "The following NEW packages will be installed:\n",
            "  openjdk-8-jdk-headless openjdk-8-jre-headless\n",
            "0 upgraded, 2 newly installed, 0 to remove and 17 not upgraded.\n",
            "Need to get 36.5 MB of archives.\n",
            "After this operation, 143 MB of additional disk space will be used.\n",
            "Selecting previously unselected package openjdk-8-jre-headless:amd64.\n",
            "(Reading database ... 146425 files and directories currently installed.)\n",
            "Preparing to unpack .../openjdk-8-jre-headless_8u282-b08-0ubuntu1~18.04_amd64.deb ...\n",
            "Unpacking openjdk-8-jre-headless:amd64 (8u282-b08-0ubuntu1~18.04) ...\n",
            "Selecting previously unselected package openjdk-8-jdk-headless:amd64.\n",
            "Preparing to unpack .../openjdk-8-jdk-headless_8u282-b08-0ubuntu1~18.04_amd64.deb ...\n",
            "Unpacking openjdk-8-jdk-headless:amd64 (8u282-b08-0ubuntu1~18.04) ...\n",
            "Setting up openjdk-8-jre-headless:amd64 (8u282-b08-0ubuntu1~18.04) ...\n",
            "update-alternatives: using /usr/lib/jvm/java-8-openjdk-amd64/jre/bin/orbd to provide /usr/bin/orbd (orbd) in auto mode\n",
            "update-alternatives: using /usr/lib/jvm/java-8-openjdk-amd64/jre/bin/servertool to provide /usr/bin/servertool (servertool) in auto mode\n",
            "update-alternatives: using /usr/lib/jvm/java-8-openjdk-amd64/jre/bin/tnameserv to provide /usr/bin/tnameserv (tnameserv) in auto mode\n",
            "Setting up openjdk-8-jdk-headless:amd64 (8u282-b08-0ubuntu1~18.04) ...\n",
            "update-alternatives: using /usr/lib/jvm/java-8-openjdk-amd64/bin/idlj to provide /usr/bin/idlj (idlj) in auto mode\n",
            "update-alternatives: using /usr/lib/jvm/java-8-openjdk-amd64/bin/wsimport to provide /usr/bin/wsimport (wsimport) in auto mode\n",
            "update-alternatives: using /usr/lib/jvm/java-8-openjdk-amd64/bin/jsadebugd to provide /usr/bin/jsadebugd (jsadebugd) in auto mode\n",
            "update-alternatives: using /usr/lib/jvm/java-8-openjdk-amd64/bin/native2ascii to provide /usr/bin/native2ascii (native2ascii) in auto mode\n",
            "update-alternatives: using /usr/lib/jvm/java-8-openjdk-amd64/bin/javah to provide /usr/bin/javah (javah) in auto mode\n",
            "update-alternatives: using /usr/lib/jvm/java-8-openjdk-amd64/bin/hsdb to provide /usr/bin/hsdb (hsdb) in auto mode\n",
            "update-alternatives: using /usr/lib/jvm/java-8-openjdk-amd64/bin/clhsdb to provide /usr/bin/clhsdb (clhsdb) in auto mode\n",
            "update-alternatives: using /usr/lib/jvm/java-8-openjdk-amd64/bin/xjc to provide /usr/bin/xjc (xjc) in auto mode\n",
            "update-alternatives: using /usr/lib/jvm/java-8-openjdk-amd64/bin/schemagen to provide /usr/bin/schemagen (schemagen) in auto mode\n",
            "update-alternatives: using /usr/lib/jvm/java-8-openjdk-amd64/bin/extcheck to provide /usr/bin/extcheck (extcheck) in auto mode\n",
            "update-alternatives: using /usr/lib/jvm/java-8-openjdk-amd64/bin/jhat to provide /usr/bin/jhat (jhat) in auto mode\n",
            "update-alternatives: using /usr/lib/jvm/java-8-openjdk-amd64/bin/wsgen to provide /usr/bin/wsgen (wsgen) in auto mode\n"
          ],
          "name": "stdout"
        }
      ]
    },
    {
      "cell_type": "markdown",
      "metadata": {
        "id": "-CJ71AKe91eh"
      },
      "source": [
        "Now we authenticate a Google Drive client to download the file we will be processing in our Spark job.\n",
        "\n",
        "**Make sure to follow the interactive instructions.**"
      ]
    },
    {
      "cell_type": "code",
      "metadata": {
        "id": "5K93ABEy9Zlo"
      },
      "source": [
        "from pydrive.auth import GoogleAuth\n",
        "from pydrive.drive import GoogleDrive\n",
        "from google.colab import auth\n",
        "from oauth2client.client import GoogleCredentials\n",
        "\n",
        "# Authenticate and create the PyDrive client\n",
        "auth.authenticate_user()\n",
        "gauth = GoogleAuth()\n",
        "gauth.credentials = GoogleCredentials.get_application_default()\n",
        "drive = GoogleDrive(gauth)"
      ],
      "execution_count": 2,
      "outputs": []
    },
    {
      "cell_type": "code",
      "metadata": {
        "id": "0orRvrc1-545"
      },
      "source": [
        "id='1SE6k_0YukzGd5wK-E4i6mG83nydlfvSa'\n",
        "downloaded = drive.CreateFile({'id': id})\n",
        "downloaded.GetContentFile('pg100.txt')\n",
        "#downloaded.GetContentFile('test.txt')"
      ],
      "execution_count": 3,
      "outputs": []
    },
    {
      "cell_type": "markdown",
      "metadata": {
        "id": "qwtlO4_m_LbQ"
      },
      "source": [
        "If you executed the cells above, you should be able to see the file *pg100.txt* under the \"Files\" tab on the left panel."
      ]
    },
    {
      "cell_type": "markdown",
      "metadata": {
        "id": "CRaF2A_j_nC7"
      },
      "source": [
        "### Your task"
      ]
    },
    {
      "cell_type": "markdown",
      "metadata": {
        "id": "ebLNUxP0_8x3"
      },
      "source": [
        "If you run successfully the setup stage, you are ready to work on the *pg100.txt* file which contains a copy of the complete works of Shakespeare.\n",
        "\n",
        "Write a Spark application which outputs the number of words that start with each letter. This means that for every letter we want to count the total number of (non-unique) words that start with a specific letter. In your implementation **ignore the letter case**, i.e., consider all words as lower case. Also, you can ignore all the words **starting** with a non-alphabetic character."
      ]
    },
    {
      "cell_type": "code",
      "metadata": {
        "id": "xu-e7Ph2_ruG"
      },
      "source": [
        "from pyspark.sql import *\n",
        "from pyspark.sql.functions import *\n",
        "from pyspark import SparkContext\n",
        "import pyspark\n",
        "import pandas as pd\n",
        "import sys # this library does \n",
        "from pyspark.conf import SparkConf  # we add a new library\n",
        "from operator import add\n",
        "import random\n",
        "\n",
        "# create the Spark Session\n",
        "spark = SparkSession.builder.master(\"local[*]\").getOrCreate()\n",
        "\n",
        "# create the Spark Context\n",
        "sc = spark.sparkContext.getOrCreate()\n",
        "\n"
      ],
      "execution_count": 4,
      "outputs": []
    },
    {
      "cell_type": "code",
      "metadata": {
        "id": "AuAxGFPFB43Y",
        "colab": {
          "base_uri": "https://localhost:8080/"
        },
        "outputId": "70087fd9-a423-41ec-8ff2-76636a561b06"
      },
      "source": [
        "# YOUR\n",
        "\n",
        "#it reads the file text \n",
        "text = sc.textFile(\"/content/pg100.txt\")\n",
        "\n",
        "#we use map to sort the words in the file\n",
        "words = text.flatMap(lambda line: line.split(\" \"))\n",
        "\n",
        "\n",
        "# we create this function to remove characters and do lowercases\n",
        "def lower_clean_str(x):\n",
        "  punc = '!\"#$%&\\'()*+,./:;<=>?@[\\\\]^_`{|}~- '\n",
        "  lowercased_str = x.lower()\n",
        "  for ch in punc:\n",
        "      lowercased_str = lowercased_str.replace(ch,'')\n",
        "\n",
        "  return lowercased_str\n",
        "\n",
        "wordsCount = words.map(lower_clean_str)\n",
        "\n",
        "wordsCount.take(20)\n"
      ],
      "execution_count": 5,
      "outputs": [
        {
          "output_type": "execute_result",
          "data": {
            "text/plain": [
              "['the',\n",
              " 'project',\n",
              " 'gutenberg',\n",
              " 'ebook',\n",
              " 'of',\n",
              " 'the',\n",
              " 'complete',\n",
              " 'works',\n",
              " 'of',\n",
              " 'william',\n",
              " 'shakespeare',\n",
              " 'by',\n",
              " 'william',\n",
              " 'shakespeare',\n",
              " '',\n",
              " 'this',\n",
              " 'ebook',\n",
              " 'is',\n",
              " 'for',\n",
              " 'the']"
            ]
          },
          "metadata": {
            "tags": []
          },
          "execution_count": 5
        }
      ]
    },
    {
      "cell_type": "code",
      "metadata": {
        "id": "FU-EICww_WTp",
        "colab": {
          "base_uri": "https://localhost:8080/"
        },
        "outputId": "c8d92e5b-9fa1-4757-ab39-80c793ed95b3"
      },
      "source": [
        "wordTotal = wordsCount.map(lambda word:(word, 1))\n",
        "#wordTotal.take(3) \n",
        "###### it shows the output withouth characters #####\n",
        "#wordTotal.collect()\n",
        "\n",
        "#### it shows and counts how many words can be repeated #####\n",
        "wordTotal.countByValue()"
      ],
      "execution_count": 6,
      "outputs": [
        {
          "output_type": "execute_result",
          "data": {
            "text/plain": [
              "defaultdict(int,\n",
              "            {('the', 1): 27825,\n",
              "             ('project', 1): 329,\n",
              "             ('gutenberg', 1): 257,\n",
              "             ('ebook', 1): 16,\n",
              "             ('of', 1): 18289,\n",
              "             ('complete', 1): 248,\n",
              "             ('works', 1): 284,\n",
              "             ('william', 1): 351,\n",
              "             ('shakespeare', 1): 272,\n",
              "             ('by', 1): 4426,\n",
              "             ('', 1): 506966,\n",
              "             ('this', 1): 6894,\n",
              "             ('is', 1): 9621,\n",
              "             ('for', 1): 8261,\n",
              "             ('use', 1): 560,\n",
              "             ('anyone', 1): 7,\n",
              "             ('anywhere', 1): 8,\n",
              "             ('at', 1): 2521,\n",
              "             ('no', 1): 3807,\n",
              "             ('cost', 1): 51,\n",
              "             ('and', 1): 26791,\n",
              "             ('with', 1): 8046,\n",
              "             ('almost', 1): 163,\n",
              "             ('restrictions', 1): 2,\n",
              "             ('whatsoever', 1): 17,\n",
              "             ('you', 1): 13716,\n",
              "             ('may', 1): 1880,\n",
              "             ('copy', 1): 27,\n",
              "             ('it', 1): 7703,\n",
              "             ('give', 1): 1335,\n",
              "             ('away', 1): 859,\n",
              "             ('or', 1): 3195,\n",
              "             ('reuse', 1): 2,\n",
              "             ('under', 1): 296,\n",
              "             ('terms', 1): 97,\n",
              "             ('license', 1): 25,\n",
              "             ('included', 1): 5,\n",
              "             ('online', 1): 4,\n",
              "             ('wwwgutenbergorg', 1): 3,\n",
              "             ('a', 1): 14667,\n",
              "             ('copyrighted', 1): 2,\n",
              "             ('details', 1): 1,\n",
              "             ('below', 1): 58,\n",
              "             ('please', 1): 392,\n",
              "             ('follow', 1): 310,\n",
              "             ('copyright', 1): 243,\n",
              "             ('guidelines', 1): 1,\n",
              "             ('in', 1): 11027,\n",
              "             ('file', 1): 21,\n",
              "             ('title', 1): 88,\n",
              "             ('author', 1): 16,\n",
              "             ('posting', 1): 5,\n",
              "             ('date', 1): 25,\n",
              "             ('september', 1): 1,\n",
              "             ('1', 1): 311,\n",
              "             ('2011', 1): 1,\n",
              "             ('100', 1): 2,\n",
              "             ('release', 1): 10,\n",
              "             ('january', 1): 3,\n",
              "             ('1994', 1): 1,\n",
              "             ('language', 1): 37,\n",
              "             ('english', 1): 165,\n",
              "             ('start', 1): 35,\n",
              "             ('workswilliam', 1): 2,\n",
              "             ('produced', 1): 4,\n",
              "             ('world', 1): 848,\n",
              "             ('library', 1): 233,\n",
              "             ('inc', 1): 224,\n",
              "             ('from', 1): 2662,\n",
              "             ('their', 1): 2079,\n",
              "             ('future', 1): 20,\n",
              "             ('100th', 1): 1,\n",
              "             ('etext', 1): 244,\n",
              "             ('presented', 1): 18,\n",
              "             ('cooperation', 1): 1,\n",
              "             ('cdroms', 1): 1,\n",
              "             ('often', 1): 124,\n",
              "             ('releases', 1): 1,\n",
              "             ('etexts', 1): 3,\n",
              "             ('that', 1): 11135,\n",
              "             ('are', 1): 3874,\n",
              "             ('not', 1): 8745,\n",
              "             ('placed', 1): 10,\n",
              "             ('public', 1): 66,\n",
              "             ('domain', 1): 12,\n",
              "             ('has', 1): 389,\n",
              "             ('certain', 1): 178,\n",
              "             ('implications', 1): 1,\n",
              "             ('should', 1): 1576,\n",
              "             ('read', 1): 205,\n",
              "             ('electronic', 1): 469,\n",
              "             ('version', 1): 222,\n",
              "             ('19901993', 1): 221,\n",
              "             ('provided', 1): 256,\n",
              "             ('illinois', 1): 222,\n",
              "             ('benedictine', 1): 222,\n",
              "             ('college', 1): 225,\n",
              "             ('permission', 1): 233,\n",
              "             ('machine', 1): 224,\n",
              "             ('readable', 1): 225,\n",
              "             ('copies', 1): 453,\n",
              "             ('be', 1): 7106,\n",
              "             ('distributed', 1): 447,\n",
              "             ('so', 1): 5268,\n",
              "             ('long', 1): 671,\n",
              "             ('as', 1): 5970,\n",
              "             ('such', 1): 1621,\n",
              "             ('your', 1): 6889,\n",
              "             ('others', 1): 451,\n",
              "             ('personal', 1): 234,\n",
              "             ('only', 1): 534,\n",
              "             ('2', 1): 301,\n",
              "             ('used', 1): 245,\n",
              "             ('commercially', 1): 221,\n",
              "             ('prohibited', 1): 221,\n",
              "             ('commercial', 1): 222,\n",
              "             ('distribution', 1): 230,\n",
              "             ('includes', 1): 224,\n",
              "             ('any', 1): 973,\n",
              "             ('service', 1): 444,\n",
              "             ('charges', 1): 238,\n",
              "             ('download', 1): 223,\n",
              "             ('time', 1): 1269,\n",
              "             ('membership', 1): 221,\n",
              "             ('proud', 1): 203,\n",
              "             ('to', 1): 19261,\n",
              "             ('cooperate', 1): 1,\n",
              "             ('presentation', 1): 4,\n",
              "             ('reading', 1): 35,\n",
              "             ('education', 1): 9,\n",
              "             ('entertainment', 1): 37,\n",
              "             ('however', 1): 14,\n",
              "             ('neither', 1): 185,\n",
              "             ('shareware', 1): 1,\n",
              "             ('nor', 1): 969,\n",
              "             ('conditions', 1): 29,\n",
              "             ('made', 1): 827,\n",
              "             ('access', 1): 33,\n",
              "             ('material', 1): 6,\n",
              "             ('encouraged', 1): 3,\n",
              "             ('like', 1): 1702,\n",
              "             ('but', 1): 6275,\n",
              "             ('allowed', 1): 5,\n",
              "             ('small', 1): 101,\n",
              "             ('print', 1): 23,\n",
              "             ('since', 1): 447,\n",
              "             ('unlike', 1): 16,\n",
              "             ('many', 1): 574,\n",
              "             ('other', 1): 690,\n",
              "             ('gutenbergtm', 1): 58,\n",
              "             ('protected', 1): 4,\n",
              "             ('materials', 1): 1,\n",
              "             ('methods', 1): 3,\n",
              "             ('will', 1): 4983,\n",
              "             ('effect', 1): 72,\n",
              "             ('projects', 1): 3,\n",
              "             ('reputation', 1): 47,\n",
              "             ('right', 1): 354,\n",
              "             ('distribute', 1): 11,\n",
              "             ('limited', 1): 13,\n",
              "             ('laws', 1): 49,\n",
              "             ('statement', 1): 3,\n",
              "             ('b', 1): 14,\n",
              "             ('subject', 1): 103,\n",
              "             ('honor', 1): 36,\n",
              "             ('refund', 1): 13,\n",
              "             ('replacement', 1): 8,\n",
              "             ('provisions', 1): 2,\n",
              "             ('exact', 1): 9,\n",
              "             ('including', 1): 15,\n",
              "             ('can', 1): 1222,\n",
              "             ('compressed', 1): 3,\n",
              "             ('proprietary', 1): 2,\n",
              "             ('form', 1): 117,\n",
              "             ('resulting', 1): 1,\n",
              "             ('word', 1): 498,\n",
              "             ('processing', 1): 2,\n",
              "             ('hypertext', 1): 3,\n",
              "             ('software', 1): 2,\n",
              "             ('either', 1): 167,\n",
              "             ('when', 1): 2051,\n",
              "             ('displayed', 1): 3,\n",
              "             ('clearly', 1): 7,\n",
              "             ('does', 1): 326,\n",
              "             ('contain', 1): 19,\n",
              "             ('characters', 1): 13,\n",
              "             ('than', 1): 1883,\n",
              "             ('those', 1): 547,\n",
              "             ('intended', 1): 20,\n",
              "             ('work', 1): 234,\n",
              "             ('although', 1): 79,\n",
              "             ('tilde', 1): 1,\n",
              "             ('asterisk', 1): 1,\n",
              "             ('underline', 1): 1,\n",
              "             ('convey', 1): 34,\n",
              "             ('punctuation', 1): 1,\n",
              "             ('additional', 1): 6,\n",
              "             ('indicate', 1): 2,\n",
              "             ('links', 1): 6,\n",
              "             ('readily', 1): 2,\n",
              "             ('convertible', 1): 1,\n",
              "             ('reader', 1): 2,\n",
              "             ('expense', 1): 20,\n",
              "             ('into', 1): 640,\n",
              "             ('plain', 1): 117,\n",
              "             ('ascii', 1): 5,\n",
              "             ('ebcdic', 1): 1,\n",
              "             ('equivalent', 1): 1,\n",
              "             ('program', 1): 1,\n",
              "             ('displays', 1): 1,\n",
              "             ('case', 1): 109,\n",
              "             ('instance', 1): 26,\n",
              "             ('most', 1): 1185,\n",
              "             ('processors', 1): 1,\n",
              "             ('3', 1): 49,\n",
              "             ('provide', 1): 39,\n",
              "             ('agree', 1): 30,\n",
              "             ('on', 1): 3065,\n",
              "             ('request', 1): 66,\n",
              "             ('fee', 1): 35,\n",
              "             ('warranty', 1): 7,\n",
              "             ('disclaimer', 1): 4,\n",
              "             ('damages', 1): 9,\n",
              "             ('defect', 1): 18,\n",
              "             ('incomplete', 1): 2,\n",
              "             ('inaccurate', 1): 2,\n",
              "             ('corrupt', 1): 31,\n",
              "             ('data', 1): 2,\n",
              "             ('transcription', 1): 2,\n",
              "             ('errors', 1): 15,\n",
              "             ('infringement', 1): 2,\n",
              "             ('defective', 1): 9,\n",
              "             ('damaged', 1): 2,\n",
              "             ('disk', 1): 2,\n",
              "             ('computer', 1): 3,\n",
              "             ('virus', 1): 2,\n",
              "             ('codes', 1): 2,\n",
              "             ('damage', 1): 6,\n",
              "             ('cannot', 1): 766,\n",
              "             ('equipment', 1): 4,\n",
              "             ('described', 1): 3,\n",
              "             ('party', 1): 51,\n",
              "             ('receive', 1): 99,\n",
              "             ('disclaims', 1): 2,\n",
              "             ('all', 1): 3904,\n",
              "             ('liability', 1): 5,\n",
              "             ('costs', 1): 6,\n",
              "             ('expenses', 1): 5,\n",
              "             ('legal', 1): 5,\n",
              "             ('fees', 1): 10,\n",
              "             ('have', 1): 5888,\n",
              "             ('remedies', 1): 10,\n",
              "             ('negligence', 1): 16,\n",
              "             ('strict', 1): 18,\n",
              "             ('breach', 1): 34,\n",
              "             ('contract', 1): 28,\n",
              "             ('indirect', 1): 10,\n",
              "             ('consequential', 1): 2,\n",
              "             ('punitive', 1): 2,\n",
              "             ('incidental', 1): 2,\n",
              "             ('even', 1): 569,\n",
              "             ('if', 1): 3521,\n",
              "             ('notice', 1): 34,\n",
              "             ('possibility', 1): 5,\n",
              "             ('discover', 1): 36,\n",
              "             ('within', 1): 497,\n",
              "             ('90', 1): 5,\n",
              "             ('days', 1): 234,\n",
              "             ('receiv', 1): 1,\n",
              "             ('ing', 1): 1,\n",
              "             ('money', 1): 185,\n",
              "             ('paid', 1): 71,\n",
              "             ('sending', 1): 13,\n",
              "             ('an', 1): 1839,\n",
              "             ('explanatory', 1): 1,\n",
              "             ('note', 1): 150,\n",
              "             ('person', 1): 153,\n",
              "             ('received', 1): 33,\n",
              "             ('physical', 1): 5,\n",
              "             ('medium', 1): 7,\n",
              "             ('must', 1): 1502,\n",
              "             ('return', 1): 199,\n",
              "             ('choose', 1): 106,\n",
              "             ('alternatively', 1): 2,\n",
              "             ('electronically', 1): 4,\n",
              "             ('second', 1): 574,\n",
              "             ('opportunity', 1): 17,\n",
              "             ('otherwise', 1): 37,\n",
              "             ('asis', 1): 2,\n",
              "             ('warranties', 1): 6,\n",
              "             ('kind', 1): 279,\n",
              "             ('express', 1): 37,\n",
              "             ('implied', 1): 4,\n",
              "             ('merchantability', 1): 1,\n",
              "             ('fitness', 1): 11,\n",
              "             ('particular', 1): 60,\n",
              "             ('purpose', 1): 209,\n",
              "             ('some', 1): 1339,\n",
              "             ('states', 1): 34,\n",
              "             ('do', 1): 3767,\n",
              "             ('allow', 1): 31,\n",
              "             ('disclaimers', 1): 3,\n",
              "             ('exclusion', 1): 2,\n",
              "             ('limitation', 1): 6,\n",
              "             ('consequen', 1): 1,\n",
              "             ('tial', 1): 1,\n",
              "             ('above', 1): 147,\n",
              "             ('exclusions', 1): 1,\n",
              "             ('apply', 1): 17,\n",
              "             ('rights', 1): 22,\n",
              "             ('indemnity', 1): 2,\n",
              "             ('indemnify', 1): 2,\n",
              "             ('hold', 1): 462,\n",
              "             ('its', 1): 50,\n",
              "             ('directors', 1): 1,\n",
              "             ('officers', 1): 87,\n",
              "             ('members', 1): 11,\n",
              "             ('agents', 1): 4,\n",
              "             ('harmless', 1): 17,\n",
              "             ('lia', 1): 1,\n",
              "             ('bility', 1): 1,\n",
              "             ('arise', 1): 39,\n",
              "             ('directly', 1): 35,\n",
              "             ('indirectly', 1): 10,\n",
              "             ('following', 1): 56,\n",
              "             ('cause', 1): 339,\n",
              "             ('alteration', 1): 11,\n",
              "             ('modification', 1): 2,\n",
              "             ('addition', 1): 29,\n",
              "             ('c', 1): 22,\n",
              "             ('4', 1): 35,\n",
              "             ('what', 1): 4466,\n",
              "             ('want', 1): 135,\n",
              "             ('send', 1): 258,\n",
              "             ('dont', 1): 1,\n",
              "             ('dedicated', 1): 4,\n",
              "             ('increasing', 1): 9,\n",
              "             ('number', 1): 56,\n",
              "             ('licensed', 1): 2,\n",
              "             ('freely', 1): 59,\n",
              "             ('gratefully', 1): 2,\n",
              "             ('accepts', 1): 3,\n",
              "             ('contributions', 1): 3,\n",
              "             ('scanning', 1): 1,\n",
              "             ('machines', 1): 1,\n",
              "             ('ocr', 1): 1,\n",
              "             ('royalty', 1): 28,\n",
              "             ('free', 1): 191,\n",
              "             ('licenses', 1): 1,\n",
              "             ('whatever', 1): 10,\n",
              "             ('else', 1): 416,\n",
              "             ('think', 1): 1025,\n",
              "             ('pro', 1): 2,\n",
              "             ('ject', 1): 1,\n",
              "             ('association', 1): 1,\n",
              "             ('charles', 1): 126,\n",
              "             ('kramer', 1): 1,\n",
              "             ('attorney', 1): 8,\n",
              "             ('internet', 1): 1,\n",
              "             ('726002026compuservecom', 1): 1,\n",
              "             ('tel', 1): 1,\n",
              "             ('2122545093', 1): 1,\n",
              "             ('v120893', 1): 1,\n",
              "             ('1609', 1): 3,\n",
              "             ('sonnets', 1): 5,\n",
              "             ('fairest', 1): 41,\n",
              "             ('creatures', 1): 41,\n",
              "             ('we', 1): 3305,\n",
              "             ('desire', 1): 218,\n",
              "             ('increase', 1): 28,\n",
              "             ('thereby', 1): 26,\n",
              "             ('beautys', 1): 30,\n",
              "             ('rose', 1): 64,\n",
              "             ('might', 1): 496,\n",
              "             ('never', 1): 1011,\n",
              "             ('die', 1): 474,\n",
              "             ('riper', 1): 3,\n",
              "             ('decease', 1): 6,\n",
              "             ('his', 1): 6857,\n",
              "             ('tender', 1): 138,\n",
              "             ('heir', 1): 108,\n",
              "             ('bear', 1): 534,\n",
              "             ('memory', 1): 58,\n",
              "             ('thou', 1): 5485,\n",
              "             ('contracted', 1): 11,\n",
              "             ('thine', 1): 455,\n",
              "             ('own', 1): 771,\n",
              "             ('bright', 1): 68,\n",
              "             ('eyes', 1): 690,\n",
              "             ('feedst', 1): 3,\n",
              "             ('thy', 1): 4032,\n",
              "             ('lights', 1): 28,\n",
              "             ('flame', 1): 23,\n",
              "             ('selfsubstantial', 1): 1,\n",
              "             ('fuel', 1): 5,\n",
              "             ('making', 1): 81,\n",
              "             ('famine', 1): 12,\n",
              "             ('where', 1): 1235,\n",
              "             ('abundance', 1): 13,\n",
              "             ('lies', 1): 245,\n",
              "             ('self', 1): 138,\n",
              "             ('foe', 1): 62,\n",
              "             ('sweet', 1): 789,\n",
              "             ('too', 1): 1232,\n",
              "             ('cruel', 1): 70,\n",
              "             ('art', 1): 915,\n",
              "             ('now', 1): 2778,\n",
              "             ('worlds', 1): 53,\n",
              "             ('fresh', 1): 87,\n",
              "             ('ornament', 1): 18,\n",
              "             ('herald', 1): 58,\n",
              "             ('gaudy', 1): 6,\n",
              "             ('spring', 1): 59,\n",
              "             ('bud', 1): 14,\n",
              "             ('buriest', 1): 1,\n",
              "             ('content', 1): 157,\n",
              "             ('churl', 1): 9,\n",
              "             ('makst', 1): 22,\n",
              "             ('waste', 1): 44,\n",
              "             ('niggarding', 1): 1,\n",
              "             ('pity', 1): 217,\n",
              "             ('glutton', 1): 3,\n",
              "             ('eat', 1): 142,\n",
              "             ('due', 1): 76,\n",
              "             ('grave', 1): 177,\n",
              "             ('thee', 1): 3178,\n",
              "             ('forty', 1): 28,\n",
              "             ('winters', 1): 33,\n",
              "             ('shall', 1): 3593,\n",
              "             ('besiege', 1): 10,\n",
              "             ('brow', 1): 69,\n",
              "             ('dig', 1): 10,\n",
              "             ('deep', 1): 136,\n",
              "             ('trenches', 1): 8,\n",
              "             ('field', 1): 187,\n",
              "             ('youths', 1): 10,\n",
              "             ('livery', 1): 21,\n",
              "             ('gazed', 1): 1,\n",
              "             ('tattered', 1): 3,\n",
              "             ('weed', 1): 18,\n",
              "             ('worth', 1): 204,\n",
              "             ('held', 1): 84,\n",
              "             ('then', 1): 2221,\n",
              "             ('being', 1): 662,\n",
              "             ('asked', 1): 4,\n",
              "             ('beauty', 1): 201,\n",
              "             ('treasure', 1): 51,\n",
              "             ('lusty', 1): 34,\n",
              "             ('say', 1): 1680,\n",
              "             ('sunken', 1): 3,\n",
              "             ('were', 1): 1577,\n",
              "             ('alleating', 1): 1,\n",
              "             ('shame', 1): 302,\n",
              "             ('thriftless', 1): 4,\n",
              "             ('praise', 1): 182,\n",
              "             ('how', 1): 2163,\n",
              "             ('much', 1): 1036,\n",
              "             ('more', 1): 2289,\n",
              "             ('deserved', 1): 19,\n",
              "             ('couldst', 1): 30,\n",
              "             ('answer', 1): 380,\n",
              "             ('fair', 1): 757,\n",
              "             ('child', 1): 232,\n",
              "             ('mine', 1): 1161,\n",
              "             ('sum', 1): 56,\n",
              "             ('my', 1): 12481,\n",
              "             ('count', 1): 107,\n",
              "             ('make', 1): 1632,\n",
              "             ('old', 1): 715,\n",
              "             ('excuse', 1): 78,\n",
              "             ('proving', 1): 1,\n",
              "             ('succession', 1): 17,\n",
              "             ('new', 1): 213,\n",
              "             ('see', 1): 1441,\n",
              "             ('blood', 1): 639,\n",
              "             ('warm', 1): 44,\n",
              "             ('feelst', 1): 1,\n",
              "             ('cold', 1): 195,\n",
              "             ('look', 1): 828,\n",
              "             ('glass', 1): 56,\n",
              "             ('tell', 1): 1059,\n",
              "             ('face', 1): 416,\n",
              "             ('viewest', 1): 2,\n",
              "             ('another', 1): 430,\n",
              "             ('whose', 1): 615,\n",
              "             ('repair', 1): 45,\n",
              "             ('renewest', 1): 1,\n",
              "             ('dost', 1): 429,\n",
              "             ('beguile', 1): 24,\n",
              "             ('unbless', 1): 1,\n",
              "             ('mother', 1): 360,\n",
              "             ('she', 1): 2209,\n",
              "             ('uneared', 1): 1,\n",
              "             ('womb', 1): 53,\n",
              "             ('disdains', 1): 6,\n",
              "             ('tillage', 1): 1,\n",
              "             ('husbandry', 1): 14,\n",
              "             ('who', 1): 1205,\n",
              "             ('he', 1): 6253,\n",
              "             ('fond', 1): 56,\n",
              "             ('tomb', 1): 54,\n",
              "             ('selflove', 1): 7,\n",
              "             ('stop', 1): 95,\n",
              "             ('posterity', 1): 11,\n",
              "             ('mothers', 1): 93,\n",
              "             ('calls', 1): 92,\n",
              "             ('back', 1): 335,\n",
              "             ('lovely', 1): 53,\n",
              "             ('april', 1): 15,\n",
              "             ('her', 1): 3843,\n",
              "             ('prime', 1): 17,\n",
              "             ('through', 1): 263,\n",
              "             ('windows', 1): 19,\n",
              "             ('age', 1): 197,\n",
              "             ('shalt', 1): 295,\n",
              "             ('despite', 1): 53,\n",
              "             ('wrinkles', 1): 14,\n",
              "             ('golden', 1): 91,\n",
              "             ('live', 1): 513,\n",
              "             ('remembered', 1): 5,\n",
              "             ('single', 1): 59,\n",
              "             ('image', 1): 46,\n",
              "             ('dies', 1): 102,\n",
              "             ('unthrifty', 1): 5,\n",
              "             ('loveliness', 1): 2,\n",
              "             ('why', 1): 1465,\n",
              "             ('spend', 1): 66,\n",
              "             ('upon', 1): 1733,\n",
              "             ('legacy', 1): 5,\n",
              "             ('natures', 1): 66,\n",
              "             ('bequest', 1): 1,\n",
              "             ('gives', 1): 147,\n",
              "             ('nothing', 1): 633,\n",
              "             ('doth', 1): 939,\n",
              "             ('lend', 1): 93,\n",
              "             ('frank', 1): 11,\n",
              "             ('lends', 1): 13,\n",
              "             ('beauteous', 1): 39,\n",
              "             ('niggard', 1): 8,\n",
              "             ('abuse', 1): 46,\n",
              "             ('bounteous', 1): 18,\n",
              "             ('largess', 1): 5,\n",
              "             ('given', 1): 192,\n",
              "             ('profitless', 1): 3,\n",
              "             ('usurer', 1): 9,\n",
              "             ('great', 1): 899,\n",
              "             ('sums', 1): 17,\n",
              "             ('yet', 1): 1569,\n",
              "             ('canst', 1): 173,\n",
              "             ('having', 1): 155,\n",
              "             ('traffic', 1): 10,\n",
              "             ('alone', 1): 237,\n",
              "             ('deceive', 1): 28,\n",
              "             ('nature', 1): 344,\n",
              "             ('gone', 1): 464,\n",
              "             ('acceptable', 1): 1,\n",
              "             ('audit', 1): 9,\n",
              "             ('leave', 1): 651,\n",
              "             ('unused', 1): 5,\n",
              "             ('tombed', 1): 1,\n",
              "             ('which', 1): 2323,\n",
              "             ('lives', 1): 204,\n",
              "             ('th', 1): 1148,\n",
              "             ('executor', 1): 2,\n",
              "             ('5', 1): 21,\n",
              "             ('hours', 1): 149,\n",
              "             ('gentle', 1): 366,\n",
              "             ('did', 1): 1626,\n",
              "             ('frame', 1): 46,\n",
              "             ('gaze', 1): 27,\n",
              "             ('every', 1): 491,\n",
              "             ('eye', 1): 418,\n",
              "             ('dwell', 1): 39,\n",
              "             ('play', 1): 303,\n",
              "             ('tyrants', 1): 20,\n",
              "             ('very', 1): 814,\n",
              "             ('same', 1): 220,\n",
              "             ('unfair', 1): 1,\n",
              "             ('fairly', 1): 46,\n",
              "             ('excel', 1): 6,\n",
              "             ('neverresting', 1): 1,\n",
              "             ('leads', 1): 32,\n",
              "             ('summer', 1): 54,\n",
              "             ('hideous', 1): 22,\n",
              "             ('winter', 1): 47,\n",
              "             ('confounds', 1): 11,\n",
              "             ('him', 1): 5192,\n",
              "             ('there', 1): 1810,\n",
              "             ('sap', 1): 12,\n",
              "             ('checked', 1): 2,\n",
              "             ('frost', 1): 12,\n",
              "             ('leaves', 1): 70,\n",
              "             ('quite', 1): 86,\n",
              "             ('oersnowed', 1): 1,\n",
              "             ('bareness', 1): 4,\n",
              "             ('summers', 1): 37,\n",
              "             ('distillation', 1): 2,\n",
              "             ('left', 1): 245,\n",
              "             ('liquid', 1): 9,\n",
              "             ('prisoner', 1): 81,\n",
              "             ('pent', 1): 8,\n",
              "             ('walls', 1): 85,\n",
              "             ('bereft', 1): 17,\n",
              "             ('remembrance', 1): 63,\n",
              "             ('was', 1): 2230,\n",
              "             ('flowers', 1): 47,\n",
              "             ('distilled', 1): 5,\n",
              "             ('though', 1): 628,\n",
              "             ('they', 1): 2474,\n",
              "             ('meet', 1): 325,\n",
              "             ('leese', 1): 1,\n",
              "             ('show', 1): 416,\n",
              "             ('substance', 1): 41,\n",
              "             ('still', 1): 552,\n",
              "             ('6', 1): 10,\n",
              "             ('let', 1): 2099,\n",
              "             ('ragged', 1): 23,\n",
              "             ('hand', 1): 838,\n",
              "             ('deface', 1): 4,\n",
              "             ('ere', 1): 359,\n",
              "             ('vial', 1): 5,\n",
              "             ('place', 1): 431,\n",
              "             ('selfkilled', 1): 1,\n",
              "             ('forbidden', 1): 5,\n",
              "             ('usury', 1): 4,\n",
              "             ('happies', 1): 1,\n",
              "             ('pay', 1): 139,\n",
              "             ('willing', 1): 39,\n",
              "             ('loan', 1): 3,\n",
              "             ('thats', 1): 399,\n",
              "             ('breed', 1): 49,\n",
              "             ('ten', 1): 154,\n",
              "             ('times', 1): 236,\n",
              "             ('happier', 1): 17,\n",
              "             ('one', 1): 1781,\n",
              "             ('refigured', 1): 1,\n",
              "             ('could', 1): 624,\n",
              "             ('death', 1): 858,\n",
              "             ('shouldst', 1): 75,\n",
              "             ('depart', 1): 65,\n",
              "             ('leaving', 1): 25,\n",
              "             ('living', 1): 120,\n",
              "             ('selfwilled', 1): 1,\n",
              "             ('deaths', 1): 50,\n",
              "             ('conquest', 1): 31,\n",
              "             ('worms', 1): 24,\n",
              "             ('7', 1): 7,\n",
              "             ('lo', 1): 74,\n",
              "             ('orient', 1): 5,\n",
              "             ('gracious', 1): 195,\n",
              "             ('light', 1): 264,\n",
              "             ('lifts', 1): 5,\n",
              "             ('up', 1): 1072,\n",
              "             ('burning', 1): 45,\n",
              "             ('head', 1): 514,\n",
              "             ('each', 1): 240,\n",
              "             ('homage', 1): 17,\n",
              "             ('newappearing', 1): 2,\n",
              "             ('sight', 1): 199,\n",
              "             ('serving', 1): 7,\n",
              "             ('looks', 1): 214,\n",
              "             ('sacred', 1): 47,\n",
              "             ('majesty', 1): 256,\n",
              "             ('climbed', 1): 1,\n",
              "             ('steepup', 1): 1,\n",
              "             ('heavenly', 1): 54,\n",
              "             ('hill', 1): 40,\n",
              "             ('resembling', 1): 4,\n",
              "             ('strong', 1): 185,\n",
              "             ('youth', 1): 277,\n",
              "             ('middle', 1): 21,\n",
              "             ('mortal', 1): 96,\n",
              "             ('adore', 1): 14,\n",
              "             ('attending', 1): 43,\n",
              "             ('pilgrimage', 1): 16,\n",
              "             ('highmost', 1): 2,\n",
              "             ('pitch', 1): 32,\n",
              "             ('weary', 1): 76,\n",
              "             ('car', 1): 35,\n",
              "             ('feeble', 1): 37,\n",
              "             ('reeleth', 1): 1,\n",
              "             ('day', 1): 719,\n",
              "             ('fore', 1): 31,\n",
              "             ('duteous', 1): 11,\n",
              "             ('converted', 1): 7,\n",
              "             ('low', 1): 96,\n",
              "             ('tract', 1): 4,\n",
              "             ('way', 1): 565,\n",
              "             ('outgoing', 1): 1,\n",
              "             ('noon', 1): 17,\n",
              "             ('unlooked', 1): 2,\n",
              "             ('diest', 1): 22,\n",
              "             ('unless', 1): 157,\n",
              "             ('get', 1): 303,\n",
              "             ('son', 1): 691,\n",
              "             ('8', 1): 3,\n",
              "             ('music', 1): 201,\n",
              "             ('hear', 1): 872,\n",
              "             ('hearst', 1): 10,\n",
              "             ('sadly', 1): 18,\n",
              "             ('sweets', 1): 16,\n",
              "             ('war', 1): 252,\n",
              "             ('joy', 1): 191,\n",
              "             ('delights', 1): 20,\n",
              "             ('lovst', 1): 26,\n",
              "             ('receivst', 1): 2,\n",
              "             ('gladly', 1): 16,\n",
              "             ('pleasure', 1): 179,\n",
              "             ('annoy', 1): 8,\n",
              "             ('true', 1): 792,\n",
              "             ('concord', 1): 9,\n",
              "             ('welltuned', 1): 1,\n",
              "             ('sounds', 1): 47,\n",
              "             ('unions', 1): 1,\n",
              "             ('married', 1): 149,\n",
              "             ('offend', 1): 59,\n",
              "             ('ear', 1): 191,\n",
              "             ('sweetly', 1): 27,\n",
              "             ('chide', 1): 49,\n",
              "             ('singleness', 1): 2,\n",
              "             ('parts', 1): 112,\n",
              "             ('mark', 1): 226,\n",
              "             ('string', 1): 6,\n",
              "             ('husband', 1): 291,\n",
              "             ('strikes', 1): 47,\n",
              "             ('mutual', 1): 15,\n",
              "             ('ordering', 1): 3,\n",
              "             ('sire', 1): 18,\n",
              "             ('happy', 1): 202,\n",
              "             ('pleasing', 1): 22,\n",
              "             ('sing', 1): 139,\n",
              "             ('speechless', 1): 13,\n",
              "             ('song', 1): 79,\n",
              "             ('seeming', 1): 57,\n",
              "             ('sings', 1): 91,\n",
              "             ('wilt', 1): 307,\n",
              "             ('prove', 1): 252,\n",
              "             ('none', 1): 467,\n",
              "             ('9', 1): 3,\n",
              "             ('fear', 1): 625,\n",
              "             ('wet', 1): 19,\n",
              "             ('widows', 1): 19,\n",
              "             ('consumst', 1): 1,\n",
              "             ('life', 1): 835,\n",
              "             ('ah', 1): 183,\n",
              "             ('issueless', 1): 2,\n",
              "             ('hap', 1): 26,\n",
              "             ('wail', 1): 23,\n",
              "             ('makeless', 1): 1,\n",
              "             ('wife', 1): 510,\n",
              "             ('widow', 1): 110,\n",
              "             ('weep', 1): 163,\n",
              "             ('hast', 1): 584,\n",
              "             ('behind', 1): 118,\n",
              "             ('private', 1): 66,\n",
              "             ('well', 1): 2462,\n",
              "             ('keep', 1): 479,\n",
              "             ('childrens', 1): 13,\n",
              "             ('husbands', 1): 63,\n",
              "             ('shape', 1): 87,\n",
              "             ('mind', 1): 357,\n",
              "             ('unthrift', 1): 3,\n",
              "             ('shifts', 1): 7,\n",
              "             ('enjoys', 1): 7,\n",
              "             ('hath', 1): 1941,\n",
              "             ('end', 1): 346,\n",
              "             ('kept', 1): 97,\n",
              "             ('user', 1): 4,\n",
              "             ('destroys', 1): 2,\n",
              "             ('love', 1): 2053,\n",
              "             ('toward', 1): 103,\n",
              "             ('bosom', 1): 125,\n",
              "             ('sits', 1): 59,\n",
              "             ('himself', 1): 451,\n",
              "             ('murdrous', 1): 11,\n",
              "             ('commits', 1): 5,\n",
              "             ('10', 1): 3,\n",
              "             ('deny', 1): 133,\n",
              "             ('bearst', 1): 7,\n",
              "             ('unprovident', 1): 1,\n",
              "             ('grant', 1): 109,\n",
              "             ('beloved', 1): 29,\n",
              "             ('evident', 1): 7,\n",
              "             ('possessed', 1): 6,\n",
              "             ('hate', 1): 177,\n",
              "             ('gainst', 1): 101,\n",
              "             ('stickst', 1): 3,\n",
              "             ('conspire', 1): 8,\n",
              "             ('seeking', 1): 24,\n",
              "             ('roof', 1): 16,\n",
              "             ('ruinate', 1): 2,\n",
              "             ('chief', 1): 109,\n",
              "             ('o', 1): 2607,\n",
              "             ('change', 1): 156,\n",
              "             ('thought', 1): 375,\n",
              "             ('i', 1): 20681,\n",
              "             ('fairer', 1): 38,\n",
              "             ('lodged', 1): 5,\n",
              "             ('presence', 1): 106,\n",
              "             ('least', 1): 100,\n",
              "             ('kindhearted', 1): 1,\n",
              "             ('me', 1): 7769,\n",
              "             ('11', 1): 1,\n",
              "             ('fast', 1): 129,\n",
              "             ('wane', 1): 2,\n",
              "             ('growst', 1): 3,\n",
              "             ('departest', 1): 1,\n",
              "             ('youngly', 1): 2,\n",
              "             ('bestowst', 1): 1,\n",
              "             ('mayst', 1): 68,\n",
              "             ('call', 1): 554,\n",
              "             ('convertest', 1): 1,\n",
              "             ('herein', 1): 29,\n",
              "             ('wisdom', 1): 93,\n",
              "             ('without', 1): 372,\n",
              "             ('folly', 1): 79,\n",
              "             ('decay', 1): 24,\n",
              "             ('minded', 1): 10,\n",
              "             ('cease', 1): 48,\n",
              "             ('threescore', 1): 7,\n",
              "             ('year', 1): 92,\n",
              "             ('would', 1): 2295,\n",
              "             ('whom', 1): 424,\n",
              "             ('store', 1): 38,\n",
              "             ('harsh', 1): 27,\n",
              "             ('featureless', 1): 1,\n",
              "             ('rude', 1): 71,\n",
              "             ('barrenly', 1): 1,\n",
              "             ('perish', 1): 31,\n",
              "             ('best', 1): 459,\n",
              "             ('endowed', 1): 2,\n",
              "             ('gave', 1): 229,\n",
              "             ('gift', 1): 65,\n",
              "             ('bounty', 1): 40,\n",
              "             ('cherish', 1): 18,\n",
              "             ('carved', 1): 6,\n",
              "             ('seal', 1): 66,\n",
              "             ('meant', 1): 49,\n",
              "             ('12', 1): 1,\n",
              "             ('clock', 1): 38,\n",
              "             ('tells', 1): 44,\n",
              "             ('brave', 1): 160,\n",
              "             ('sunk', 1): 4,\n",
              "             ('night', 1): 630,\n",
              "             ('behold', 1): 158,\n",
              "             ('violet', 1): 8,\n",
              "             ('past', 1): 146,\n",
              "             ('sable', 1): 3,\n",
              "             ('curls', 1): 4,\n",
              "             ('silvered', 1): 1,\n",
              "             ('oer', 1): 203,\n",
              "             ('white', 1): 127,\n",
              "             ('lofty', 1): 17,\n",
              "             ('trees', 1): 32,\n",
              "             ('barren', 1): 40,\n",
              "             ('erst', 1): 6,\n",
              "             ('heat', 1): 65,\n",
              "             ('canopy', 1): 10,\n",
              "             ('herd', 1): 15,\n",
              "             ('green', 1): 104,\n",
              "             ('girded', 1): 2,\n",
              "             ('sheaves', 1): 1,\n",
              "             ('borne', 1): 79,\n",
              "             ('bier', 1): 6,\n",
              "             ('bristly', 1): 1,\n",
              "             ('beard', 1): 95,\n",
              "             ('question', 1): 149,\n",
              "             ('among', 1): 93,\n",
              "             ('wastes', 1): 4,\n",
              "             ('go', 1): 1733,\n",
              "             ('beauties', 1): 13,\n",
              "             ('themselves', 1): 158,\n",
              "             ('forsake', 1): 25,\n",
              "             ('grow', 1): 137,\n",
              "             ('scythe', 1): 6,\n",
              "             ('defence', 1): 37,\n",
              "             ('save', 1): 211,\n",
              "             ('takes', 1): 110,\n",
              "             ('hence', 1): 366,\n",
              "             ('13', 1): 1,\n",
              "             ('longer', 1): 113,\n",
              "             ('yours', 1): 255,\n",
              "             ('here', 1): 2114,\n",
              "             ('against', 1): 596,\n",
              "             ('coming', 1): 154,\n",
              "             ('prepare', 1): 67,\n",
              "             ('semblance', 1): 19,\n",
              "             ('lease', 1): 9,\n",
              "             ('find', 1): 527,\n",
              "             ('determination', 1): 6,\n",
              "             ('again', 1): 768,\n",
              "             ('after', 1): 405,\n",
              "             ('selfs', 1): 4,\n",
              "             ('issue', 1): 110,\n",
              "             ('lets', 1): 278,\n",
              "             ('house', 1): 538,\n",
              "             ('fall', 1): 299,\n",
              "             ('honour', 1): 569,\n",
              "             ('uphold', 1): 5,\n",
              "             ('stormy', 1): 4,\n",
              "             ('gusts', 1): 7,\n",
              "             ('rage', 1): 121,\n",
              "             ('eternal', 1): 38,\n",
              "             ('unthrifts', 1): 2,\n",
              "             ('dear', 1): 447,\n",
              "             ('know', 1): 1648,\n",
              "             ('had', 1): 1427,\n",
              "             ('father', 1): 836,\n",
              "             ('14', 1): 1,\n",
              "             ('stars', 1): 70,\n",
              "             ('judgement', 1): 16,\n",
              "             ('pluck', 1): 107,\n",
              "             ('methinks', 1): 152,\n",
              "             ('astronomy', 1): 1,\n",
              "             ('good', 1): 2812,\n",
              "             ('evil', 1): 62,\n",
              "             ('luck', 1): 26,\n",
              "             ('plagues', 1): 14,\n",
              "             ('dearths', 1): 1,\n",
              "             ('seasons', 1): 13,\n",
              "             ('quality', 1): 55,\n",
              "             ('fortune', 1): 314,\n",
              "             ('brief', 1): 91,\n",
              "             ('minutes', 1): 20,\n",
              "             ('pointing', 1): 8,\n",
              "             ('thunder', 1): 62,\n",
              "             ('rain', 1): 60,\n",
              "             ('wind', 1): 176,\n",
              "             ('princes', 1): 132,\n",
              "             ('oft', 1): 149,\n",
              "             ('predict', 1): 1,\n",
              "             ('heaven', 1): 615,\n",
              "             ('knowledge', 1): 78,\n",
              "             ('derive', 1): 12,\n",
              "             ('constant', 1): 49,\n",
              "             ('them', 1): 1978,\n",
              "             ('truth', 1): 330,\n",
              "             ('together', 1): 256,\n",
              "             ('thrive', 1): 56,\n",
              "             ('wouldst', 1): 133,\n",
              "             ('convert', 1): 10,\n",
              "             ('prognosticate', 1): 1,\n",
              "             ('truths', 1): 14,\n",
              "             ('doom', 1): 49,\n",
              "             ('15', 1): 1,\n",
              "             ('consider', 1): 49,\n",
              "             ('thing', 1): 355,\n",
              "             ('grows', 1): 77,\n",
              "             ('holds', 1): 82,\n",
              "             ('perfection', 1): 25,\n",
              "             ('little', 1): 481,\n",
              "             ('moment', 1): 31,\n",
              "             ('huge', 1): 35,\n",
              "             ('stage', 1): 37,\n",
              "             ('presenteth', 1): 4,\n",
              "             ('nought', 1): 57,\n",
              "             ('shows', 1): 103,\n",
              "             ('whereon', 1): 30,\n",
              "             ('secret', 1): 63,\n",
              "             ('influence', 1): 10,\n",
              "             ('comment', 1): 13,\n",
              "             ('perceive', 1): 90,\n",
              "             ('men', 1): 853,\n",
              "             ('plants', 1): 13,\n",
              "             ('cheered', 1): 2,\n",
              "             ('selfsame', 1): 24,\n",
              "             ('sky', 1): 39,\n",
              "             ('vaunt', 1): 2,\n",
              "             ('youthful', 1): 31,\n",
              "             ('height', 1): 34,\n",
              "             ('decrease', 1): 2,\n",
              "             ('wear', 1): 200,\n",
              "             ('state', 1): 310,\n",
              "             ('out', 1): 1377,\n",
              "             ('conceit', 1): 41,\n",
              "             ('inconstant', 1): 11,\n",
              "             ('stay', 1): 426,\n",
              "             ('sets', 1): 28,\n",
              "             ('rich', 1): 167,\n",
              "             ('before', 1): 837,\n",
              "             ('wasteful', 1): 9,\n",
              "             ('debateth', 1): 1,\n",
              "             ('sullied', 1): 2,\n",
              "             ('engraft', 1): 1,\n",
              "             ('16', 1): 1,\n",
              "             ('wherefore', 1): 139,\n",
              "             ('mightier', 1): 7,\n",
              "             ('bloody', 1): 224,\n",
              "             ('tyrant', 1): 49,\n",
              "             ('fortify', 1): 7,\n",
              "             ('means', 1): 267,\n",
              "             ('blessed', 1): 77,\n",
              "             ('rhyme', 1): 34,\n",
              "             ('stand', 1): 567,\n",
              "             ('top', 1): 51,\n",
              "             ('maiden', 1): 42,\n",
              "             ('gardens', 1): 4,\n",
              "             ('unset', 1): 1,\n",
              "             ('virtuous', 1): 95,\n",
              "             ('wish', 1): 209,\n",
              "             ...})"
            ]
          },
          "metadata": {
            "tags": []
          },
          "execution_count": 6
        }
      ]
    },
    {
      "cell_type": "code",
      "metadata": {
        "id": "yYU7GX428C9U",
        "colab": {
          "base_uri": "https://localhost:8080/"
        },
        "outputId": "2bbbae18-8164-4fed-8a05-639d609010b5"
      },
      "source": [
        "##### most common words #####\n",
        "distinctWordsCount = wordTotal.reduceByKey(lambda x,y:(x+y)).sortByKey()\n",
        "#distinctWordsCount.take(20)\n",
        "\n",
        "######sort by most frequent words in the file #######\n",
        "##### we stopwords using sortByKey\n",
        "sortWordsCount = distinctWordsCount.map(lambda x: (x[1], x[0]))\n",
        "sortWordsCount.sortByKey(False).take(10)\n",
        "##print most frequent 20 words\n"
      ],
      "execution_count": 7,
      "outputs": [
        {
          "output_type": "execute_result",
          "data": {
            "text/plain": [
              "[(506966, ''),\n",
              " (27825, 'the'),\n",
              " (26791, 'and'),\n",
              " (20681, 'i'),\n",
              " (19261, 'to'),\n",
              " (18289, 'of'),\n",
              " (14667, 'a'),\n",
              " (13716, 'you'),\n",
              " (12481, 'my'),\n",
              " (11135, 'that')]"
            ]
          },
          "metadata": {
            "tags": []
          },
          "execution_count": 7
        }
      ]
    },
    {
      "cell_type": "code",
      "metadata": {
        "id": "A-SSxDs9FdJa",
        "colab": {
          "base_uri": "https://localhost:8080/"
        },
        "outputId": "f0cf4ffa-2edc-4b83-9a8f-f2faa752ec82"
      },
      "source": [
        "#### We count numbers of words with a certain letter using startwith ###\n",
        "#For letter 'A'\n",
        "countAletter = words.filter(lambda x: x.startswith(\"a\"))\n",
        "output = (\"A:\")\n",
        "countAletter.count()\n"
      ],
      "execution_count": 8,
      "outputs": [
        {
          "output_type": "execute_result",
          "data": {
            "text/plain": [
              "63748"
            ]
          },
          "metadata": {
            "tags": []
          },
          "execution_count": 8
        }
      ]
    },
    {
      "cell_type": "code",
      "metadata": {
        "id": "Tt28H8_I78Ix"
      },
      "source": [
        "#For letter B\n",
        "countBletter = words.filter(lambda x: x.startswith(\"b\"))\n",
        "countBletter.count()"
      ],
      "execution_count": null,
      "outputs": []
    },
    {
      "cell_type": "code",
      "metadata": {
        "id": "iZejeaZX78F8",
        "colab": {
          "base_uri": "https://localhost:8080/"
        },
        "outputId": "2b7b26a3-0f75-483e-e097-3d036d797ce8"
      },
      "source": [
        "#For letter C\n",
        "countBletter = words.filter(lambda x: x.startswith(\"c\"))\n",
        "countBletter.count()"
      ],
      "execution_count": 9,
      "outputs": [
        {
          "output_type": "execute_result",
          "data": {
            "text/plain": [
              "23496"
            ]
          },
          "metadata": {
            "tags": []
          },
          "execution_count": 9
        }
      ]
    },
    {
      "cell_type": "code",
      "metadata": {
        "id": "WHOyt9hB78DH",
        "colab": {
          "base_uri": "https://localhost:8080/"
        },
        "outputId": "74df7192-f587-41d8-c7bb-12283ac51668"
      },
      "source": [
        "#For letter D\n",
        "countBletter = words.filter(lambda x: x.startswith(\"d\"))\n",
        "countBletter.count()"
      ],
      "execution_count": 10,
      "outputs": [
        {
          "output_type": "execute_result",
          "data": {
            "text/plain": [
              "23531"
            ]
          },
          "metadata": {
            "tags": []
          },
          "execution_count": 10
        }
      ]
    },
    {
      "cell_type": "code",
      "metadata": {
        "id": "fJhBAZ4z78AM",
        "colab": {
          "base_uri": "https://localhost:8080/"
        },
        "outputId": "9a3b51c2-6a1c-464a-fa92-823857622249"
      },
      "source": [
        "#For letter E\n",
        "countBletter = words.filter(lambda x: x.startswith(\"e\"))\n",
        "countBletter.count()"
      ],
      "execution_count": 12,
      "outputs": [
        {
          "output_type": "execute_result",
          "data": {
            "text/plain": [
              "10431"
            ]
          },
          "metadata": {
            "tags": []
          },
          "execution_count": 12
        }
      ]
    },
    {
      "cell_type": "code",
      "metadata": {
        "id": "nw3_EEf0779t",
        "colab": {
          "base_uri": "https://localhost:8080/"
        },
        "outputId": "d39c8d48-4b07-48fd-f7da-c117fa83dcc1"
      },
      "source": [
        "#For letter F\n",
        "countBletter = words.filter(lambda x: x.startswith(\"f\"))\n",
        "countBletter.count()"
      ],
      "execution_count": 11,
      "outputs": [
        {
          "output_type": "execute_result",
          "data": {
            "text/plain": [
              "28819"
            ]
          },
          "metadata": {
            "tags": []
          },
          "execution_count": 11
        }
      ]
    },
    {
      "cell_type": "code",
      "metadata": {
        "id": "_kNuKXp377jH",
        "colab": {
          "base_uri": "https://localhost:8080/"
        },
        "outputId": "d52f52ea-f29b-4e76-c691-9ffa6b11b2ff"
      },
      "source": [
        "#For letter G\n",
        "countBletter = words.filter(lambda x: x.startswith(\"g\"))\n",
        "countBletter.count()"
      ],
      "execution_count": 13,
      "outputs": [
        {
          "output_type": "execute_result",
          "data": {
            "text/plain": [
              "14703"
            ]
          },
          "metadata": {
            "tags": []
          },
          "execution_count": 13
        }
      ]
    },
    {
      "cell_type": "code",
      "metadata": {
        "id": "n0owDqRS8OcJ",
        "colab": {
          "base_uri": "https://localhost:8080/"
        },
        "outputId": "49602772-c9e9-401f-aed0-aa112046582d"
      },
      "source": [
        "#For letter H\n",
        "countBletter = words.filter(lambda x: x.startswith(\"h\"))\n",
        "countBletter.count()"
      ],
      "execution_count": 16,
      "outputs": [
        {
          "output_type": "execute_result",
          "data": {
            "text/plain": [
              "50511"
            ]
          },
          "metadata": {
            "tags": []
          },
          "execution_count": 16
        }
      ]
    },
    {
      "cell_type": "code",
      "metadata": {
        "id": "hPf5YBSD8OZJ",
        "colab": {
          "base_uri": "https://localhost:8080/"
        },
        "outputId": "4a7a3c2f-4e55-409e-982e-89e92f1deaa7"
      },
      "source": [
        "#For letter I\n",
        "countBletter = words.filter(lambda x: x.startswith(\"i\"))\n",
        "countBletter.count()"
      ],
      "execution_count": 15,
      "outputs": [
        {
          "output_type": "execute_result",
          "data": {
            "text/plain": [
              "32292"
            ]
          },
          "metadata": {
            "tags": []
          },
          "execution_count": 15
        }
      ]
    },
    {
      "cell_type": "code",
      "metadata": {
        "id": "mVcK0YpF8OWW",
        "colab": {
          "base_uri": "https://localhost:8080/"
        },
        "outputId": "74593955-5de6-42c8-ab40-a13f33e77044"
      },
      "source": [
        "#For letter J\n",
        "countBletter = words.filter(lambda x: x.startswith(\"j\"))\n",
        "countBletter.count()\n"
      ],
      "execution_count": 14,
      "outputs": [
        {
          "output_type": "execute_result",
          "data": {
            "text/plain": [
              "1593"
            ]
          },
          "metadata": {
            "tags": []
          },
          "execution_count": 14
        }
      ]
    },
    {
      "cell_type": "code",
      "metadata": {
        "id": "WMOl61CP8OTd",
        "colab": {
          "base_uri": "https://localhost:8080/"
        },
        "outputId": "a8fc1b4b-4d9e-4a80-f036-f53b6c088543"
      },
      "source": [
        "#For letter K\n",
        "countBletter = words.filter(lambda x: x.startswith(\"k\"))\n",
        "countBletter.count()\n"
      ],
      "execution_count": 17,
      "outputs": [
        {
          "output_type": "execute_result",
          "data": {
            "text/plain": [
              "5789"
            ]
          },
          "metadata": {
            "tags": []
          },
          "execution_count": 17
        }
      ]
    },
    {
      "cell_type": "code",
      "metadata": {
        "id": "VRxA8bZC8OQW",
        "colab": {
          "base_uri": "https://localhost:8080/"
        },
        "outputId": "f90b122f-7608-4d94-c09c-589ff2bb1149"
      },
      "source": [
        "#For letter L\n",
        "countBletter = words.filter(lambda x: x.startswith(\"l\"))\n",
        "countBletter.count()"
      ],
      "execution_count": 18,
      "outputs": [
        {
          "output_type": "execute_result",
          "data": {
            "text/plain": [
              "22353"
            ]
          },
          "metadata": {
            "tags": []
          },
          "execution_count": 18
        }
      ]
    },
    {
      "cell_type": "code",
      "metadata": {
        "id": "SqfFv9Mi8ONc",
        "colab": {
          "base_uri": "https://localhost:8080/"
        },
        "outputId": "2b9d748c-63d6-4091-e0cb-f52b48f66e13"
      },
      "source": [
        "#For letter M\n",
        "countBletter = words.filter(lambda x: x.startswith(\"m\"))\n",
        "countBletter.count()"
      ],
      "execution_count": 20,
      "outputs": [
        {
          "output_type": "execute_result",
          "data": {
            "text/plain": [
              "46233"
            ]
          },
          "metadata": {
            "tags": []
          },
          "execution_count": 20
        }
      ]
    },
    {
      "cell_type": "code",
      "metadata": {
        "id": "geC6BkJ08OKy",
        "colab": {
          "base_uri": "https://localhost:8080/"
        },
        "outputId": "43dceedf-ee9d-47a5-9dbe-09419711d503"
      },
      "source": [
        "#For letter N\n",
        "countBletter = words.filter(lambda x: x.startswith(\"n\"))\n",
        "countBletter.count()"
      ],
      "execution_count": 19,
      "outputs": [
        {
          "output_type": "execute_result",
          "data": {
            "text/plain": [
              "21813"
            ]
          },
          "metadata": {
            "tags": []
          },
          "execution_count": 19
        }
      ]
    },
    {
      "cell_type": "code",
      "metadata": {
        "id": "ltE4HbE78OH9",
        "colab": {
          "base_uri": "https://localhost:8080/"
        },
        "outputId": "117006b7-9e34-4db9-d5f8-b82cef69ef0d"
      },
      "source": [
        "#For letter O\n",
        "countBletter = words.filter(lambda x: x.startswith(\"o\"))\n",
        "countBletter.count()"
      ],
      "execution_count": 21,
      "outputs": [
        {
          "output_type": "execute_result",
          "data": {
            "text/plain": [
              "34201"
            ]
          },
          "metadata": {
            "tags": []
          },
          "execution_count": 21
        }
      ]
    },
    {
      "cell_type": "code",
      "metadata": {
        "id": "f129YCWx8OFE",
        "colab": {
          "base_uri": "https://localhost:8080/"
        },
        "outputId": "da443e88-2e16-4efe-eb87-2d0aba09094e"
      },
      "source": [
        "#For letter P\n",
        "countBletter = words.filter(lambda x: x.startswith(\"p\"))\n",
        "countBletter.count()"
      ],
      "execution_count": 22,
      "outputs": [
        {
          "output_type": "execute_result",
          "data": {
            "text/plain": [
              "19344"
            ]
          },
          "metadata": {
            "tags": []
          },
          "execution_count": 22
        }
      ]
    },
    {
      "cell_type": "code",
      "metadata": {
        "id": "FdriFSEu8OD9",
        "colab": {
          "base_uri": "https://localhost:8080/"
        },
        "outputId": "63241f49-a660-47de-feed-c8cf4de0f133"
      },
      "source": [
        "#For letter Q\n",
        "countBletter = words.filter(lambda x: x.startswith(\"q\"))\n",
        "countBletter.count()"
      ],
      "execution_count": 24,
      "outputs": [
        {
          "output_type": "execute_result",
          "data": {
            "text/plain": [
              "1332"
            ]
          },
          "metadata": {
            "tags": []
          },
          "execution_count": 24
        }
      ]
    },
    {
      "cell_type": "code",
      "metadata": {
        "id": "-XoQagPT8N_c",
        "colab": {
          "base_uri": "https://localhost:8080/"
        },
        "outputId": "4cb62154-6ecc-4f8c-ec35-654b574f64dd"
      },
      "source": [
        "#For letter R\n",
        "countBletter = words.filter(lambda x: x.startswith(\"r\"))\n",
        "countBletter.count()"
      ],
      "execution_count": 23,
      "outputs": [
        {
          "output_type": "execute_result",
          "data": {
            "text/plain": [
              "10400"
            ]
          },
          "metadata": {
            "tags": []
          },
          "execution_count": 23
        }
      ]
    },
    {
      "cell_type": "code",
      "metadata": {
        "id": "RleAnTX88N8h",
        "colab": {
          "base_uri": "https://localhost:8080/"
        },
        "outputId": "44ed3711-1ae2-43af-917b-53e79b1194d4"
      },
      "source": [
        "#For letter S\n",
        "countBletter = words.filter(lambda x: x.startswith(\"s\"))\n",
        "countBletter.count()\n"
      ],
      "execution_count": 25,
      "outputs": [
        {
          "output_type": "execute_result",
          "data": {
            "text/plain": [
              "52643"
            ]
          },
          "metadata": {
            "tags": []
          },
          "execution_count": 25
        }
      ]
    },
    {
      "cell_type": "code",
      "metadata": {
        "id": "jeZzwXrG8N58",
        "colab": {
          "base_uri": "https://localhost:8080/"
        },
        "outputId": "29ec5c5d-8c22-454e-ed57-7014c619ea6e"
      },
      "source": [
        "#For letter T\n",
        "countBletter = words.filter(lambda x: x.startswith(\"t\"))\n",
        "countBletter.count()\n"
      ],
      "execution_count": 26,
      "outputs": [
        {
          "output_type": "execute_result",
          "data": {
            "text/plain": [
              "101603"
            ]
          },
          "metadata": {
            "tags": []
          },
          "execution_count": 26
        }
      ]
    },
    {
      "cell_type": "code",
      "metadata": {
        "id": "ja01OboV8N3b",
        "colab": {
          "base_uri": "https://localhost:8080/"
        },
        "outputId": "ae880fae-61f4-4f32-e1bb-90dbd9e60fe6"
      },
      "source": [
        "#For letter U\n",
        "countBletter = words.filter(lambda x: x.startswith(\"u\"))\n",
        "countBletter.count()\n"
      ],
      "execution_count": 27,
      "outputs": [
        {
          "output_type": "execute_result",
          "data": {
            "text/plain": [
              "7667"
            ]
          },
          "metadata": {
            "tags": []
          },
          "execution_count": 27
        }
      ]
    },
    {
      "cell_type": "code",
      "metadata": {
        "id": "wF9iU2La8N0W",
        "colab": {
          "base_uri": "https://localhost:8080/"
        },
        "outputId": "828a915d-1bde-4f81-e7b7-838442b9f056"
      },
      "source": [
        "#For letter V\n",
        "countBletter = words.filter(lambda x: x.startswith(\"v\"))\n",
        "countBletter.count()"
      ],
      "execution_count": 28,
      "outputs": [
        {
          "output_type": "execute_result",
          "data": {
            "text/plain": [
              "4131"
            ]
          },
          "metadata": {
            "tags": []
          },
          "execution_count": 28
        }
      ]
    },
    {
      "cell_type": "code",
      "metadata": {
        "id": "0l4AjR3-8Nxg",
        "colab": {
          "base_uri": "https://localhost:8080/"
        },
        "outputId": "522add94-bdfb-4fd6-cec5-88ff844df623"
      },
      "source": [
        "#For letter W\n",
        "countBletter = words.filter(lambda x: x.startswith(\"w\"))\n",
        "countBletter.count()"
      ],
      "execution_count": 30,
      "outputs": [
        {
          "output_type": "execute_result",
          "data": {
            "text/plain": [
              "44981"
            ]
          },
          "metadata": {
            "tags": []
          },
          "execution_count": 30
        }
      ]
    },
    {
      "cell_type": "code",
      "metadata": {
        "id": "GCee0cy98Npp",
        "colab": {
          "base_uri": "https://localhost:8080/"
        },
        "outputId": "d015e0e5-e131-47d3-ce19-3db2d938fc8f"
      },
      "source": [
        "#For letter X\n",
        "countBletter = words.filter(lambda x: x.startswith(\"x\"))\n",
        "countBletter.count()"
      ],
      "execution_count": 29,
      "outputs": [
        {
          "output_type": "execute_result",
          "data": {
            "text/plain": [
              "0"
            ]
          },
          "metadata": {
            "tags": []
          },
          "execution_count": 29
        }
      ]
    },
    {
      "cell_type": "code",
      "metadata": {
        "id": "7jDCs412ZZcF",
        "colab": {
          "base_uri": "https://localhost:8080/"
        },
        "outputId": "1a7c7d04-4003-48cf-8a17-ce64b50715e1"
      },
      "source": [
        "#For letter Y\n",
        "countBletter = words.filter(lambda x: x.startswith(\"y\"))\n",
        "countBletter.count()\n",
        "\n"
      ],
      "execution_count": 31,
      "outputs": [
        {
          "output_type": "execute_result",
          "data": {
            "text/plain": [
              "21879"
            ]
          },
          "metadata": {
            "tags": []
          },
          "execution_count": 31
        }
      ]
    },
    {
      "cell_type": "code",
      "metadata": {
        "id": "lOP0tQlP8t8W",
        "colab": {
          "base_uri": "https://localhost:8080/"
        },
        "outputId": "dbc88fad-d6a8-4499-8803-401acc1661b2"
      },
      "source": [
        "#For letter Z\n",
        "countBletter = words.filter(lambda x: x.startswith(\"z\"))\n",
        "countBletter.count()"
      ],
      "execution_count": 32,
      "outputs": [
        {
          "output_type": "execute_result",
          "data": {
            "text/plain": [
              "53"
            ]
          },
          "metadata": {
            "tags": []
          },
          "execution_count": 32
        }
      ]
    },
    {
      "cell_type": "markdown",
      "metadata": {
        "id": "SIrXJyVNP2AI"
      },
      "source": [
        "Once you obtained the desired results, **head over to Gradescope and submit your solution for this Colab**!"
      ]
    }
  ]
}